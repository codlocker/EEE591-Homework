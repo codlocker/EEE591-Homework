{
 "cells": [
  {
   "cell_type": "code",
   "execution_count": 15,
   "id": "1e2fdf3f",
   "metadata": {},
   "outputs": [],
   "source": [
    "import numpy as np\n",
    "import pandas as pd\n",
    "from scipy.optimize import fsolve, leastsq\n",
    "import scipy.constants as ct\n",
    "import matplotlib.pyplot as plt\n",
    "import warnings\n",
    "warnings.filterwarnings('ignore')"
   ]
  },
  {
   "cell_type": "code",
   "execution_count": 16,
   "id": "accf479a",
   "metadata": {},
   "outputs": [],
   "source": [
    "# Well known constants\n",
    "Q = ct.physical_constants['atomic unit of charge'][0]\n",
    "KB = ct.physical_constants['Boltzmann constant'][0]"
   ]
  },
  {
   "cell_type": "code",
   "execution_count": 17,
   "id": "76fb6744",
   "metadata": {},
   "outputs": [
    {
     "data": {
      "text/plain": [
       "array([1., 1., 1., 1., 1., 1., 1., 1., 1., 1., 1., 1., 1., 1., 1., 1., 1.,\n",
       "       1., 1., 1., 1., 1., 1., 1.])"
      ]
     },
     "execution_count": 17,
     "metadata": {},
     "output_type": "execute_result"
    }
   ],
   "source": [
    "# Constants for Problem 1\n",
    "# Saturation Current\n",
    "I_SAT=1e-9\n",
    "\n",
    "# Ideality\n",
    "N=1.7\n",
    "\n",
    "# Resistance\n",
    "R_1 = 11000\n",
    "\n",
    "# Temperature\n",
    "T_1 = 350\n",
    "\n",
    "# Voltage\n",
    "init_voltage = np.arange(0.1, 2.5, 0.1)\n",
    "step_size = (2.5 - 0.1) / 0.1\n",
    "V = np.ones(int(step_size + 1))\n",
    "V"
   ]
  },
  {
   "cell_type": "code",
   "execution_count": 18,
   "id": "654abe62",
   "metadata": {},
   "outputs": [],
   "source": [
    "# Current through Diode\n",
    "# Returns the current diode\n",
    "def Idiode(\n",
    "    V: float,\n",
    "    n: float,\n",
    "    T: int,\n",
    "    Is: float):\n",
    "    return Is * (np.exp((Q * V) / (n * KB * T)) - 1)\n",
    "\n",
    "# Solve for diode voltage\n",
    "def solve_diode_v(\n",
    "    prev_v: float,\n",
    "    src_v: float,\n",
    "    r_val: int,\n",
    "    ideality: float,\n",
    "    temp: int,\n",
    "    isat_val: float):\n",
    "    # This is the constant in diode current equation\n",
    "    vt = (ideality * KB * temp) / Q\n",
    "    diode_current = isat_val * (np.exp(prev_v / vt) - 1)\n",
    "    # Solve diode voltage\n",
    "    return (prev_v - src_v) / r_val + diode_current\n"
   ]
  },
  {
   "cell_type": "code",
   "execution_count": 19,
   "id": "c4446590",
   "metadata": {},
   "outputs": [
    {
     "data": {
      "text/plain": [
       "array([0.09993376, 0.19947277, 0.29644374, 0.3813319 , 0.4406315 ,\n",
       "       0.4776876 , 0.50230459, 0.52012676, 0.53389711, 0.54503839,\n",
       "       0.55435716, 0.56234689, 0.56932861, 0.57552165, 0.58108195,\n",
       "       0.58612404, 0.59073435, 0.59497963, 0.59891245, 0.60257491,\n",
       "       0.6060012 , 0.60921952, 0.61225331, 0.61512231])"
      ]
     },
     "execution_count": 19,
     "metadata": {},
     "output_type": "execute_result"
    }
   ],
   "source": [
    "diode_voltage = fsolve(solve_diode_v, V, args=(init_voltage, R_1, N, T_1, I_SAT))\n",
    "diode_voltage"
   ]
  },
  {
   "cell_type": "code",
   "execution_count": 20,
   "id": "827345ac",
   "metadata": {},
   "outputs": [
    {
     "data": {
      "text/plain": [
       "array([6.02199411e-09, 4.79302369e-08, 3.23296545e-07, 1.69710024e-06,\n",
       "       5.39713543e-06, 1.11193093e-05, 1.79723102e-05, 2.54430214e-05,\n",
       "       3.32820811e-05, 4.13601465e-05, 4.96038950e-05, 5.79684647e-05,\n",
       "       6.64246721e-05, 7.49525773e-05, 8.35380046e-05, 9.21705422e-05,\n",
       "       1.00842332e-04, 1.09547306e-04, 1.18280686e-04, 1.27038645e-04,\n",
       "       1.35818072e-04, 1.44616407e-04, 1.53431519e-04, 1.62261609e-04])"
      ]
     },
     "execution_count": 20,
     "metadata": {},
     "output_type": "execute_result"
    }
   ],
   "source": [
    "diode_current = Idiode(\n",
    "    V=diode_voltage,\n",
    "    n=N,\n",
    "    T=T_1,\n",
    "    Is=I_SAT)\n",
    "diode_current"
   ]
  },
  {
   "cell_type": "code",
   "execution_count": 21,
   "id": "dc8d357a",
   "metadata": {},
   "outputs": [],
   "source": [
    "log_diode_current = np.log10(diode_current)"
   ]
  },
  {
   "cell_type": "code",
   "execution_count": 22,
   "id": "296cb41f",
   "metadata": {},
   "outputs": [],
   "source": [
    "# Problem 2\n",
    "# Resistance\n",
    "R_2 = 10000\n",
    "\n",
    "# initial ideality\n",
    "IDEALITY = 1.5\n",
    "\n",
    "# Initial phi\n",
    "PHI = 0.8\n",
    "\n",
    "# temperature\n",
    "T_2 = 375\n",
    "\n",
    "# Area\n",
    "AREA = 1e-8\n",
    "\n",
    "# Initial voltage\n",
    "P1_VDD_STEP = 0.1\n",
    "\n",
    "# Tolerance\n",
    "THRESHOLD = 1e-6\n",
    "\n",
    "# MAx iterations\n",
    "MAX_ITER = 1e6"
   ]
  },
  {
   "cell_type": "code",
   "execution_count": 23,
   "id": "6552c4e6",
   "metadata": {},
   "outputs": [],
   "source": [
    "# Read the contents of diode.txt file\n",
    "data = pd.read_csv('DiodeIV.txt', header=None, sep=' ')\n",
    "source_voltages = []\n",
    "measured_current = []\n",
    "for V_s, I_d in data.values:\n",
    "    source_voltages.append(V_s)\n",
    "    measured_current.append(I_d)\n",
    "    \n",
    "source_voltages = np.asarray(source_voltages)\n",
    "measured_current = np.asarray(measured_current)"
   ]
  },
  {
   "cell_type": "code",
   "execution_count": 24,
   "id": "c74205e9",
   "metadata": {},
   "outputs": [
    {
     "data": {
      "text/plain": [
       "array([2.61951666e-14, 4.98520829e-13, 9.01503350e-12, 1.62575648e-10,\n",
       "       2.93116164e-09, 5.27643468e-08, 9.24216059e-07, 1.16604869e-05,\n",
       "       5.30593614e-05, 1.16395730e-04, 1.88807835e-04, 2.65513449e-04,\n",
       "       3.44628461e-04, 4.25263629e-04, 5.06938002e-04, 5.89364737e-04,\n",
       "       6.72359975e-04, 7.55799206e-04, 8.39594390e-04, 9.23681080e-04,\n",
       "       1.00801073e-03, 1.09254591e-03, 1.17725713e-03, 1.26212080e-03,\n",
       "       1.34711774e-03, 1.43223215e-03, 1.51745087e-03, 1.60276282e-03,\n",
       "       1.68815858e-03, 1.77363010e-03, 1.85917040e-03, 1.94477346e-03,\n",
       "       2.03043397e-03, 2.11614729e-03, 2.20190932e-03, 2.28771641e-03,\n",
       "       2.37356529e-03, 2.45945306e-03, 2.54537708e-03, 2.63133500e-03,\n",
       "       2.71732468e-03, 2.80334416e-03, 2.88939166e-03, 2.97546558e-03,\n",
       "       3.06156443e-03, 3.14768684e-03, 3.23383156e-03, 3.31999743e-03,\n",
       "       3.40618338e-03, 3.49238842e-03])"
      ]
     },
     "execution_count": 24,
     "metadata": {},
     "output_type": "execute_result"
    }
   ],
   "source": [
    "measured_current"
   ]
  },
  {
   "cell_type": "code",
   "execution_count": 25,
   "id": "37f09352",
   "metadata": {},
   "outputs": [],
   "source": [
    "def solve_current_diode(\n",
    "    A: float, \n",
    "    phi: float,\n",
    "    R: float,\n",
    "    n: float, \n",
    "    temp: float,\n",
    "    v_s: np.array):\n",
    "    \n",
    "    # create zero array to store computed diode current/voltage\n",
    "    diode_voltage_est = np.zeros_like(v_s)\n",
    "    current_diode = np.zeros_like(v_s)\n",
    "    # specify initial diode voltage for fsolve()\n",
    "    v_guess = P1_VDD_STEP\n",
    "    is_val = A * temp * temp * np.exp(-phi * Q / ( KB * temp ) )\n",
    "    \n",
    "    # for every given source voltage, calculate diode voltage by solving nodal analysis\n",
    "    for index in range(len(v_s)):\n",
    "        v_guess = fsolve(solve_diode_v, v_guess, (v_s[index], R, n, temp, is_val),\n",
    "                                xtol = 1e-12)[0]\n",
    "        diode_voltage_est[index] = v_guess    \n",
    "    # compute the diode current\n",
    "    vt = (n * KB * temp) / Q  # calc constant for diode current equation\n",
    "    current_diode = is_val * (np.exp(diode_voltage_est / vt) - 1) # calc diode current by its definition\n",
    "    return current_diode\n",
    "\n",
    "def opt_r(R_guess: float, \n",
    "          phi_guess: float,\n",
    "          n_guess: float,\n",
    "          A: float,\n",
    "          T: int,\n",
    "          v_src: np.array,\n",
    "          current_meas: np.array):  \n",
    "    # diode current is obtained using optimized parameters\n",
    "    current_diode = solve_current_diode(A, phi_guess, R_guess, n_guess, T, v_src)\n",
    "    # Absolute error\n",
    "    return (current_diode - measured_current)\n",
    "\n",
    "    \n",
    "def opt_phi(phi_guess: float,\n",
    "            R_guess: float,\n",
    "            n_guess: float,\n",
    "            A: float,\n",
    "            T: int,\n",
    "            v_src: np.array,\n",
    "            current_meas: np.array):\n",
    "    # diode current is obtained using optimized parameters\n",
    "    current_diode = solve_current_diode(A, phi_guess, R_guess, n_guess, T, v_src)\n",
    "    # Normalized error is obtained by adding a contant in denominator for handling 0/0 case\n",
    "    return (current_diode - measured_current) / (current_diode + measured_current + 1e-15)\n",
    "    \n",
    "def opt_n(n_guess: float,\n",
    "          R_guess: float,\n",
    "          phi_guess: float,\n",
    "          A: float,\n",
    "          T: int,\n",
    "          v_src: np.array,\n",
    "          current_meas: np.array):\n",
    "    # diode current is obtained using optimized parameters\n",
    "    current_diode = solve_current_diode(A, phi_guess, R_guess, n_guess, T, v_src)\n",
    "    # Normalized error is obtained by adding a contant in denominator for handling 0/0 case\n",
    "    return (current_diode - measured_current) / (current_diode + measured_current + 1e-15)"
   ]
  },
  {
   "cell_type": "code",
   "execution_count": 26,
   "id": "8c7bb588",
   "metadata": {},
   "outputs": [
    {
     "name": "stdout",
     "output_type": "stream",
     "text": [
      "Iter#: 1 ; phi: 0.8174791942071215 ; n: 1.2728042885994006 ; R: 1045.5784329638605 ; Residual Error: 4.877172272292447\n",
      "Iter#: 2 ; phi: 0.8321575606849234 ; n: 1.230288846837419 ; R: 1111.8860890601704 ; Residual Error: 3.7535064735956496\n",
      "Iter#: 3 ; phi: 0.8439398773312575 ; n: 1.196998866473622 ; R: 1119.0729096024172 ; Residual Error: 3.0889323384116216\n",
      "Iter#: 4 ; phi: 0.8533130284228546 ; n: 1.1704613962997683 ; R: 1124.93670196316 ; Residual Error: 2.508946586229388\n",
      "Iter#: 5 ; phi: 0.8607600859079024 ; n: 1.14949826632866 ; R: 1129.867404913945 ; Residual Error: 2.0225876745644396\n",
      "Iter#: 6 ; phi: 0.8666832027197167 ; n: 1.1329747259258907 ; R: 1133.8975050376112 ; Residual Error: 1.6233485009183937\n",
      "Iter#: 7 ; phi: 0.871400520868461 ; n: 1.1199412788302683 ; R: 1137.146739115907 ; Residual Error: 1.2994833542161834\n",
      "Iter#: 8 ; phi: 0.8751613547993244 ; n: 1.1096448753907961 ; R: 1139.7500267766638 ; Residual Error: 1.0385631212026747\n",
      "Iter#: 9 ; phi: 0.8781615288929288 ; n: 1.1014974692095605 ; R: 1141.829586764214 ; Residual Error: 0.8292110387474403\n",
      "Iter#: 10 ; phi: 0.8805556264027591 ; n: 1.0950411981752077 ; R: 1143.4884603133653 ; Residual Error: 0.6616502492640434\n",
      "Iter#: 11 ; phi: 0.882466262954247 ; n: 1.0899189199805508 ; R: 1144.8108994480908 ; Residual Error: 0.5277434636674808\n",
      "Iter#: 12 ; phi: 0.8839910161784906 ; n: 1.0858510883681185 ; R: 1145.8648248187146 ; Residual Error: 0.4208334348041656\n",
      "Iter#: 13 ; phi: 0.8852076970302081 ; n: 1.0826181645569686 ; R: 1146.7046578951495 ; Residual Error: 0.33552856957228866\n",
      "Iter#: 14 ; phi: 0.8861784228312315 ; n: 1.0800472294940002 ; R: 1147.3738676854905 ; Residual Error: 0.26748856248437614\n",
      "Iter#: 15 ; phi: 0.8869528070117547 ; n: 1.078001753062719 ; R: 1147.9071236816314 ; Residual Error: 0.21323227488402802\n",
      "Iter#: 16 ; phi: 0.8875704807734117 ; n: 1.0763737251444423 ; R: 1148.3320572447474 ; Residual Error: 0.16997403856376078\n",
      "Iter#: 17 ; phi: 0.888063098649799 ; n: 1.0750775645879882 ; R: 1148.6706835929683 ; Residual Error: 0.13548790163821325\n",
      "Iter#: 18 ; phi: 0.8884559389950428 ; n: 1.074045377889258 ; R: 1148.9405413512582 ; Residual Error: 0.10799677330672254\n",
      "Iter#: 19 ; phi: 0.8887691835599792 ; n: 1.0732232509310387 ; R: 1149.1556027531312 ; Residual Error: 0.08608272505266946\n",
      "Iter#: 20 ; phi: 0.8890189411837306 ; n: 1.0725683375381687 ; R: 1149.326999197249 ; Residual Error: 0.06861481495772455\n",
      "Iter#: 21 ; phi: 0.8892180668007075 ; n: 1.0720465665590533 ; R: 1149.4635993384554 ; Residual Error: 0.05469121232520361\n",
      "Iter#: 22 ; phi: 0.8893768167840714 ; n: 1.0716308317087508 ; R: 1149.572469556111 ; Residual Error: 0.04359289662930801\n",
      "Iter#: 23 ; phi: 0.889503372656843 ; n: 1.0712995592665453 ; R: 1149.659240375285 ; Residual Error: 0.03474664438887699\n",
      "Iter#: 24 ; phi: 0.8896042598991224 ; n: 1.071035573990135 ; R: 1149.7283986811497 ; Residual Error: 0.02769550705001598\n",
      "Iter#: 25 ; phi: 0.8896846825987919 ; n: 1.0708251987207 ; R: 1149.783519995994 ; Residual Error: 0.02207523059328018\n",
      "Iter#: 26 ; phi: 0.8897487904735606 ; n: 1.0706575401605585 ; R: 1149.8274537946063 ; Residual Error: 0.01759546838816808\n",
      "Iter#: 27 ; phi: 0.8897998923143189 ; n: 1.0705239206918118 ; R: 1149.862470952848 ; Residual Error: 0.014024783317832027\n",
      "Iter#: 28 ; phi: 0.8898406261749596 ; n: 1.0704174269635574 ; R: 1149.89038132108 ; Residual Error: 0.011178699995703922\n",
      "Iter#: 29 ; phi: 0.889873095232562 ; n: 1.0703325506518144 ; R: 1149.9126273328689 ; Residual Error: 0.008910176480347745\n",
      "Iter#: 30 ; phi: 0.8898989761612286 ; n: 1.0702649025692377 ; R: 1149.9303586267215 ; Residual Error: 0.007102008845406158\n",
      "Iter#: 31 ; phi: 0.8899196055747549 ; n: 1.070210985078495 ; R: 1149.9444914813082 ; Residual Error: 0.005660776865614451\n",
      "Iter#: 32 ; phi: 0.8899360489659301 ; n: 1.0701680108592753 ; R: 1149.955756201505 ; Residual Error: 0.00451201782143468\n",
      "Iter#: 33 ; phi: 0.8899491556817862 ; n: 1.070133758570662 ; R: 1149.9647347979874 ; Residual Error: 0.0035963796192807367\n",
      "Iter#: 34 ; phi: 0.8899596027585317 ; n: 1.0701064578640502 ; R: 1149.9718914161037 ; Residual Error: 0.0028665546514551397\n",
      "Iter#: 35 ; phi: 0.8899679298703782 ; n: 1.0700846977984224 ; R: 1149.9775956085123 ; Residual Error: 0.00228483524159625\n",
      "Iter#: 36 ; phi: 0.8899745671939412 ; n: 1.0700673538397105 ; R: 1149.9821422438868 ; Residual Error: 0.0018211660069624427\n",
      "Iter#: 37 ; phi: 0.889979857621498 ; n: 1.0700535297169769 ; R: 1149.9857662136212 ; Residual Error: 0.001451590672575324\n",
      "Iter#: 38 ; phi: 0.8899840744690479 ; n: 1.0700425110773364 ; R: 1149.9886547375959 ; Residual Error: 0.0011570144579107818\n",
      "Iter#: 39 ; phi: 0.8899874355928299 ; n: 1.0700337285556438 ; R: 1149.9909570787172 ; Residual Error: 0.0009222175707425562\n",
      "Iter#: 40 ; phi: 0.8899901146421278 ; n: 1.0700267283442864 ; R: 1149.9927921952242 ; Residual Error: 0.0007350688045703244\n",
      "Iter#: 41 ; phi: 0.8899922500289809 ; n: 1.0700211487373332 ; R: 1149.994254901328 ; Residual Error: 0.0005858987692430177\n",
      "Iter#: 42 ; phi: 0.889993952086231 ; n: 1.0700167014365103 ; R: 1149.995420777571 ; Residual Error: 0.00046700042961369463\n",
      "Iter#: 43 ; phi: 0.889995308738783 ; n: 1.0700131566367834 ; R: 1149.996350052844 ; Residual Error: 0.00037222996430502853\n",
      "Iter#: 44 ; phi: 0.8899963900835984 ; n: 1.070010331193248 ; R: 1149.9970907535662 ; Residual Error: 0.0002966913130380339\n",
      "Iter#: 45 ; phi: 0.8899972519862962 ; n: 1.0700080791468731 ; R: 1149.9976811450056 ; Residual Error: 0.00023648246596398432\n",
      "Iter#: 46 ; phi: 0.8899979389793898 ; n: 1.0700062841224995 ; R: 1149.9981517204944 ; Residual Error: 0.00018849209795682837\n",
      "Iter#: 47 ; phi: 0.8899984865574904 ; n: 1.0700048533765147 ; R: 1149.998526799799 ; Residual Error: 0.00015024075634531607\n",
      "Iter#: 48 ; phi: 0.8899989230145771 ; n: 1.0700037129737905 ; R: 1149.99882576122 ; Residual Error: 0.00011975176421566366\n",
      "Iter#: 49 ; phi: 0.889999270899541 ; n: 1.0700028039991858 ; R: 1149.9990640546212 ; Residual Error: 9.545005204692308e-05\n",
      "Iter#: 50 ; phi: 0.8899995481865648 ; n: 1.070002079487382 ; R: 1149.9992539899051 ; Residual Error: 7.607999370325689e-05\n",
      "Iter#: 51 ; phi: 0.8899997692025903 ; n: 1.0700015020052234 ; R: 1149.999405380859 ; Residual Error: 6.0640818791947745e-05\n",
      "Iter#: 52 ; phi: 0.88999994536706 ; n: 1.0700010417134498 ; R: 1149.9995260489475 ; Residual Error: 4.8334759198710505e-05\n",
      "Iter#: 53 ; phi: 0.8900000857819061 ; n: 1.070000674830244 ; R: 1149.9996222295686 ; Residual Error: 3.8526006239959345e-05\n",
      "Iter#: 54 ; phi: 0.8900001977018952 ; n: 1.070000382400255 ; R: 1149.9996988919672 ; Residual Error: 3.070778601947941e-05\n",
      "Iter#: 55 ; phi: 0.8900002869095087 ; n: 1.0700001493142464 ; R: 1149.9997599968951 ; Residual Error: 2.4476146383585528e-05\n",
      "Iter#: 56 ; phi: 0.8900003580139216 ; n: 1.069999963529178 ; R: 1149.9998087015808 ; Residual Error: 1.9509113631098423e-05\n",
      "Iter#: 57 ; phi: 0.890000414688873 ; n: 1.069999815446207 ; R: 1149.999847522474 ; Residual Error: 1.5550060358509882e-05\n",
      "Iter#: 58 ; phi: 0.890000459862573 ; n: 1.0699996974142392 ; R: 1149.9998784652785 ; Residual Error: 1.2394431319193811e-05\n",
      "Iter#: 59 ; phi: 0.8900004958690103 ; n: 1.0699996033349313 ; R: 1149.9999031287578 ; Residual Error: 9.879185400877213e-06\n",
      "Iter#: 60 ; phi: 0.890000524568535 ; n: 1.0699995283474866 ; R: 1149.9999227871879 ; Residual Error: 7.874367608248981e-06\n",
      "Iter#: 61 ; phi: 0.8900005474439628 ; n: 1.0699994685775194 ; R: 1149.99993845626 ; Residual Error: 6.27639476246523e-06\n",
      "Iter#: 62 ; phi: 0.8900005656772024 ; n: 1.0699994209368744 ; R: 1149.9999509455488 ; Residual Error: 5.002703915848482e-06\n",
      "Iter#: 63 ; phi: 0.8900005802103049 ; n: 1.0699993829641175 ; R: 1149.9999609003437 ; Residual Error: 3.987487706077014e-06\n",
      "Iter#: 64 ; phi: 0.8900005917941548 ; n: 1.0699993526973068 ; R: 1149.999968834979 ; Residual Error: 3.1782929025191867e-06\n",
      "Iter#: 65 ; phi: 0.8900006010272542 ; n: 1.069999328572645 ; R: 1149.9999751594091 ; Residual Error: 2.5333107997072084e-06\n",
      "Iter#: 66 ; phi: 0.8900006083866484 ; n: 1.069999309343685 ; R: 1149.9999802004002 ; Residual Error: 2.0192171445299064e-06\n",
      "Iter#: 67 ; phi: 0.8900006142525753 ; n: 1.0699992940169254 ; R: 1149.9999842184066 ; Residual Error: 1.6094503225672683e-06\n",
      "Iter#: 68 ; phi: 0.8900006189281091 ; n: 1.0699992818004787 ; R: 1149.9999874210243 ; Residual Error: 1.282838912561652e-06\n",
      "Iter#: 69 ; phi: 0.8900006226548208 ; n: 1.0699992720631575 ; R: 1149.999989973724 ; Residual Error: 1.0225078587273392e-06\n"
     ]
    },
    {
     "name": "stdout",
     "output_type": "stream",
     "text": [
      "Iter#: 70 ; phi: 0.8900006256252576 ; n: 1.0699992643018654 ; R: 1149.9999920083956 ; Residual Error: 8.150067305750513e-07\n"
     ]
    }
   ],
   "source": [
    "err = 10\n",
    "iteration = 1\n",
    "r_val = R_2\n",
    "n_val = IDEALITY\n",
    "phi_val = PHI\n",
    "current_pred = None\n",
    "while err > THRESHOLD and iteration < MAX_ITER:\n",
    "    r_val_opt = leastsq(opt_r, r_val, args=(phi_val, n_val, AREA, T_2, source_voltages, measured_current))\n",
    "    r_val = r_val_opt[0][0]\n",
    "    \n",
    "    n_val_opt = leastsq(opt_n, n_val, args=(r_val, phi_val, AREA, T_2, source_voltages, measured_current))\n",
    "    n_val = n_val_opt[0][0]\n",
    "    \n",
    "    phi_val_opt = leastsq(opt_phi, phi_val, args=(r_val, n_val, AREA, T_2, source_voltages, measured_current))\n",
    "    phi_val = phi_val_opt[0][0]\n",
    "    \n",
    "    current_pred = solve_current_diode(AREA, phi_val, r_val, n_val, T_2, source_voltages)\n",
    "    # calc error values array for optimizing result check\n",
    "    err = np.linalg.norm((current_pred - measured_current) / (current_pred + measured_current + 1e-15), ord = 1)\n",
    "    \n",
    "    # Print iteration progress\n",
    "    if iteration % 1 == 0:\n",
    "        print(f\"Iter#: {iteration} ; phi: {phi_val} ; n: {n_val} ; R: {r_val} ; Residual Error: {err}\")\n",
    "\n",
    "    # Increment the iteration count\n",
    "    iteration += 1"
   ]
  },
  {
   "cell_type": "code",
   "execution_count": 27,
   "id": "8435b6c3",
   "metadata": {},
   "outputs": [
    {
     "name": "stdout",
     "output_type": "stream",
     "text": [
      "\n",
      "\n",
      "==========\n",
      "\n",
      "Took 71 iterations to complete...\n",
      "ESTIMATED RESISTANCE (R) : 1149.9999920083956\n",
      "ESTIMATED Phi : 0.8900006256252576\n",
      "ESTIMATED Ideality factor (n) : 1.0699992643018654\n"
     ]
    }
   ],
   "source": [
    "print(\"\\n\\n==========\\n\")\n",
    "print(f\"Took {iteration} iterations to complete...\")\n",
    "print(f\"ESTIMATED RESISTANCE (R) : {r_val}\")\n",
    "print(f\"ESTIMATED Phi : {phi_val}\")\n",
    "print(f\"ESTIMATED Ideality factor (n) : {n_val}\")"
   ]
  },
  {
   "cell_type": "code",
   "execution_count": 28,
   "id": "1afadce9",
   "metadata": {},
   "outputs": [
    {
     "data": {
      "image/png": "[encoded data removed]",
      "text/plain": [
       "<Figure size 1000x400 with 2 Axes>"
      ]
     },
     "metadata": {},
     "output_type": "display_data"
    }
   ],
   "source": [
    "fig, (ax1, ax2) = plt.subplots(1, 2, figsize=(10, 4))\n",
    "# Problem 1 graph\n",
    "ax1.plot(init_voltage, log_diode_current, label=\"Source Voltage vs Diode current\", marker=\"*\")\n",
    "ax1.plot(diode_voltage, log_diode_current, label=\"Diode Voltage vs Diode current\", marker=\"*\")\n",
    "ax1.set_ylabel(\"Diode current (log scale)\")\n",
    "ax1.set_xlabel(\"Diode voltage (volts)\")\n",
    "ax1.set_title(\"Problem 1 plot\")\n",
    "ax1.legend()\n",
    "\n",
    "# Set axes params for the plot\n",
    "ax2.set_xlabel(\"Diode voltage in volts\")\n",
    "ax2.set_ylabel(\"Diode current in log scale\")\n",
    "ax2.set_title(\"Problem 2 plot\")\n",
    "\n",
    "# Plot the given values of Source voltage and diode current in DiodeIV.txt (Actual values)\n",
    "ax2.plot(source_voltages, np.log(measured_current), label=\"Measured Current\", marker='*')\n",
    "\n",
    "# Plot the given values of diode current and diode voltage in DiodeIV.txt (Predicted values)\n",
    "ax2.plot(source_voltages, np.log(current_pred), label=\"Predicted Current\", marker='*')\n",
    "ax2.legend()\n",
    "plt.show()"
   ]
  }
 ],
 "metadata": {
  "kernelspec": {
   "display_name": "Python 3 (ipykernel)",
   "language": "python",
   "name": "python3"
  },
  "language_info": {
   "codemirror_mode": {
    "name": "ipython",
    "version": 3
   },
   "file_extension": ".py",
   "mimetype": "text/x-python",
   "name": "python",
   "nbconvert_exporter": "python",
   "pygments_lexer": "ipython3",
   "version": "3.9.13"
  }
 },
 "nbformat": 4,
 "nbformat_minor": 5
}
