{
 "cells": [
  {
   "cell_type": "code",
   "execution_count": 105,
   "id": "fe55c8ef",
   "metadata": {},
   "outputs": [
    {
     "name": "stdout",
     "output_type": "stream",
     "text": [
      "lla met a fella at the ball. They all played on the XS57B but not Cinderell\n",
      "['lla met a fell', 'll. They all']\n",
      "['Cinderella']\n",
      "['XS57B']\n",
      "['XS57B', 'S23X']\n",
      "['sally', 'omar']\n"
     ]
    }
   ],
   "source": [
    "import re           # bring in the package\n",
    "\n",
    "# define a sample string\n",
    "\n",
    "my_str = 'Cinderella met a fella at the ball. They all played on the XS57B but not Cinderella, who played on the S23X.'\n",
    "\n",
    "# find the longest string starting and ending with ll\n",
    "long_lls = re.search(r'll.*ll',my_str)\n",
    "print(long_lls.group())\n",
    "\n",
    "# find the shortest strings starting and ending with ll\n",
    "long_lls = re.findall(r'll.*?ll',my_str)\n",
    "print(long_lls)\n",
    "\n",
    "# find all occurances of Cind and the rest of the word it starts at the START of the string\n",
    "cind = re.findall(r'^Cind\\w*',my_str)\n",
    "print(cind)\n",
    "\n",
    "# extract the model number that Cinderella did NOT play on... hint: it must start with XS and end with B\n",
    "didnot = re.findall(r'XS\\w*?B',my_str)\n",
    "print(didnot)\n",
    "\n",
    "# extract all serial numbers... hint: they start and end with 1 or more uppercase letters with numbers between\n",
    "allnums = re.findall(r'[A-Z]+[0-9]+[A-Z]+',my_str)\n",
    "print(allnums)\n",
    "\n",
    "# IDs start with X or Y and end with _####\n",
    "# find the names of the people who have IDs in this sentence\n",
    "my_str2 = 'First id is Xsally_2137 and the second is Yomar_5389'\n",
    "names = re.findall(r'[XY](.*?)_\\d+',my_str2)\n",
    "print(names)"
   ]
  },
  {
   "cell_type": "code",
   "execution_count": 108,
   "id": "017af37e",
   "metadata": {},
   "outputs": [
    {
     "name": "stdout",
     "output_type": "stream",
     "text": [
      "thereby\n",
      "['Y25']\n"
     ]
    }
   ],
   "source": [
    "# NOTES\n",
    "# (...) capture and place in a group\n",
    "# (?:...) part of the match but NOT into a separate group\n",
    "# (?<=...) do NOT capture, but must come before the following match\n",
    "# (?=...) do NOT capture, but must come after the following match\n",
    "\n",
    "# Find pattern that starts with 'the' and ends with a space but don't include\n",
    "# the space and follows an _ but don't include the _. \n",
    "str1 = 'hello therefore hello_thereby so'\n",
    "find_there = re.search(r'(?<=_)(the.*?)(?= )',str1)\n",
    "print(find_there.group())\n",
    "\n",
    "# Find pattern that starts with X or Y, has 2 digits, and ends with B\n",
    "# but don't include the B in the match!\n",
    "str2 = 'Model X25A versus Model Y25B'\n",
    "find_by = re.findall(r'[XY]\\d{2}(?=B)',str2)\n",
    "print(find_by)"
   ]
  },
  {
   "cell_type": "code",
   "execution_count": 101,
   "id": "b03f5441",
   "metadata": {},
   "outputs": [
    {
     "name": "stdout",
     "output_type": "stream",
     "text": [
      "enter a number: 5\n",
      "  16\n",
      "  8\n",
      "  4\n",
      "  2\n",
      "  1\n",
      "5 iterations\n"
     ]
    }
   ],
   "source": [
    "value = int(input(\"enter a number: \"))\n",
    "loop_cnt = 0;\n",
    "while value != 1:\n",
    "    loop_cnt += 1\n",
    "    if ( value % 2 ) == 0:\n",
    "        value //= 2\n",
    "    else:\n",
    "        value = ( value * 3 ) + 1\n",
    "    print(\" \", value)\n",
    "print(loop_cnt, \"iterations\")"
   ]
  },
  {
   "cell_type": "code",
   "execution_count": 102,
   "id": "a6b2ed8a",
   "metadata": {},
   "outputs": [],
   "source": [
    "import numpy as np"
   ]
  },
  {
   "cell_type": "code",
   "execution_count": 104,
   "id": "b7a8064d",
   "metadata": {},
   "outputs": [
    {
     "data": {
      "text/plain": [
       "array([[7, 7, 7, 7, 7],\n",
       "       [7, 7, 7, 7, 7],\n",
       "       [7, 7, 7, 7, 7]])"
      ]
     },
     "execution_count": 104,
     "metadata": {},
     "output_type": "execute_result"
    }
   ],
   "source": [
    "np.full((3, 5), 7)"
   ]
  }
 ],
 "metadata": {
  "kernelspec": {
   "display_name": "Python 3 (ipykernel)",
   "language": "python",
   "name": "python3"
  },
  "language_info": {
   "codemirror_mode": {
    "name": "ipython",
    "version": 3
   },
   "file_extension": ".py",
   "mimetype": "text/x-python",
   "name": "python",
   "nbconvert_exporter": "python",
   "pygments_lexer": "ipython3",
   "version": "3.9.13"
  }
 },
 "nbformat": 4,
 "nbformat_minor": 5
}
