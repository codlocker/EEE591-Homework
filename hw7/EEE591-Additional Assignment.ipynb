{
 "cells": [
  {
   "cell_type": "markdown",
   "id": "eecf22c8",
   "metadata": {},
   "source": [
    "Problem 1: \n",
    "\n",
    "- Read the database in from this heart1.csv file and analyze the data.\n",
    "- Your analysis should include a statistical study of each variable: correlation of each variable, dependent  or independent, with all the other variables. Determine which variables are most highly correlated with each other and also which are highly correlated with the variable you wish to predict. \n",
    "- Create a cross covariance matrix to show which variables are not independent of each other and which ones are best predictors of heart disease. Create a pair plot.\n",
    "- Based on this analysis you must determine what you think you will be able to do and which variables you think are most likely to play a significant roll in predicting the dependent variable, in this case occurrence of heart disease. \n",
    "\n",
    "- Your management at AMAPE want to be kept constantly updated on your progress. Write one paragraph based on these results indicating what you have learned from this analysis. We are looking for specific observations"
   ]
  },
  {
   "cell_type": "markdown",
   "id": "7cae21c2",
   "metadata": {},
   "source": [
    "### Project 1 part 2 results"
   ]
  },
  {
   "cell_type": "code",
   "execution_count": 1,
   "id": "eb48c3ae",
   "metadata": {},
   "outputs": [
    {
     "name": "stdout",
     "output_type": "stream",
     "text": [
      "Shape of X_train after splitting:  (216, 13)\n",
      "Shape of X_test after splitting:  (54, 13)\n"
     ]
    }
   ],
   "source": [
    "# ## PART-2 APPLY ML ALGORITHMS\n",
    "\n",
    "\n",
    "import numpy as np\n",
    "import pandas as pd\n",
    "import warnings\n",
    "warnings.filterwarnings('ignore')\n",
    "\n",
    "from collections import defaultdict\n",
    "from sklearn import model_selection\n",
    "from sklearn.linear_model import LogisticRegression\n",
    "from sklearn.tree import DecisionTreeClassifier\n",
    "from sklearn.neighbors import KNeighborsClassifier\n",
    "from sklearn.ensemble import RandomForestClassifier\n",
    "from sklearn.metrics import accuracy_score\n",
    "from sklearn.svm import SVC\n",
    "from sklearn.linear_model import Perceptron\n",
    "from sklearn.preprocessing import StandardScaler\n",
    "\n",
    "\n",
    "# Read the dataset\n",
    "heart_df = pd.read_csv('./heart1.csv')\n",
    "\n",
    "\n",
    "# Split the data X and Y. Y being the target variable.\n",
    "# X being a collection of dependent and independent variables which needs to be analyzed\n",
    "X = heart_df.values[:, 0:13]\n",
    "Y = heart_df.values[:, 13]\n",
    "validation_size = 0.2\n",
    "# Split data into training and testing sets\n",
    "X_train, X_test, Y_train, Y_test = model_selection.train_test_split(X, Y, test_size=validation_size, random_state=42)\n",
    "print(\"Shape of X_train after splitting: \", X_train.shape)\n",
    "print(\"Shape of X_test after splitting: \", X_test.shape)\n",
    "\n",
    "\n",
    "# Apply a standard scaler algorithm to scale all \n",
    "# features in a fixed range\n",
    "scaler = StandardScaler()\n",
    "scaler.fit(X_train)\n",
    "\n",
    "X_train = scaler.transform(X_train)\n",
    "X_test = scaler.transform(X_test)"
   ]
  },
  {
   "cell_type": "markdown",
   "id": "5c3169ba",
   "metadata": {},
   "source": [
    "## Homework 7 : Additional Assignment\n",
    "\n",
    " In Project 1, you used 6 different methods. Here's what you need to do:\n",
    "\n",
    "Step 1: Pick the 3 methods which got the best accuracy for you in Project 1 and use them to vote. Does your accuracy improve?\n",
    "\n",
    "Step 2: Now add the 4th best method. Does accuracy improve? What do you decide to do in the case of a tie?\n",
    "\n",
    "Step 3: Now add the 5th best method. Does accuracy improve?"
   ]
  },
  {
   "cell_type": "code",
   "execution_count": 2,
   "id": "c9c8d6b7",
   "metadata": {},
   "outputs": [
    {
     "name": "stdout",
     "output_type": "stream",
     "text": [
      "Accuracy of Perceptron(%) = 90.7407\n",
      "Accuracy of Logistic model(%) = 90.7407\n",
      "Accuracy of SVM model(%) = 94.4444\n",
      "Accuracy of Decision tree model(%) = 70.3704\n",
      "Accuracy of Random Forest model(%) = 92.5926\n",
      "Accuracy of KNN model(%) = 92.5926\n"
     ]
    }
   ],
   "source": [
    "# using the best perceptron algorithm\n",
    "perceptron_model = Perceptron(tol=1, random_state=0)\n",
    "perceptron_model.fit(X_train, Y_train)\n",
    "perceptron_predict = perceptron_model.predict(X_test)\n",
    "perceptron_accuracy = np.round(perceptron_model.score(X_test, Y_test) * 100, 4)\n",
    "print('Accuracy of Perceptron(%) =', perceptron_accuracy)\n",
    "\n",
    "# using the best logistric regression model\n",
    "logistic_model = LogisticRegression(solver='liblinear', random_state=0)\n",
    "logistic_model.fit(X_train, Y_train)\n",
    "logistic_predict = logistic_model.predict(X_test)\n",
    "logistic_accuracy = np.round(logistic_model.score(X_test, Y_test) * 100, 4)\n",
    "print('Accuracy of Logistic model(%) =', logistic_accuracy)\n",
    "\n",
    "# using the best support vector machine model\n",
    "svm_model = SVC(kernel='rbf')\n",
    "svm_model.fit(X_train, Y_train)\n",
    "svm_predict = svm_model.predict(X_test)\n",
    "svm_accuracy = np.round(svm_model.score(X_test, Y_test) * 100, 4)\n",
    "print('Accuracy of SVM model(%) =', svm_accuracy)\n",
    "\n",
    "# using the best decision tree model\n",
    "dtree_model = DecisionTreeClassifier()\n",
    "dtree_model.fit(X_train, Y_train)\n",
    "dtree_predict = dtree_model.predict(X_test)\n",
    "dtree_accuracy = np.round(dtree_model.score(X_test, Y_test) * 100, 4)\n",
    "print('Accuracy of Decision tree model(%) =', dtree_accuracy)\n",
    "\n",
    "# using the random tree classifier\n",
    "raf_model = RandomForestClassifier(max_depth=4, random_state=0)\n",
    "raf_model.fit(X_train, Y_train)\n",
    "raf_predict = raf_model.predict(X_test)\n",
    "raf_accuracy = np.round(raf_model.score(X_test, Y_test) * 100, 4)\n",
    "print('Accuracy of Random Forest model(%) =', raf_accuracy)\n",
    "\n",
    "# using the KNN model\n",
    "knn_model = KNeighborsClassifier(algorithm='auto', n_neighbors=13)\n",
    "knn_model.fit(X_train, Y_train)\n",
    "knn_predict = knn_model.predict(X_test)\n",
    "knn_accuracy = np.round(knn_model.score(X_test, Y_test) * 100, 4)\n",
    "print('Accuracy of KNN model(%) =', knn_accuracy)"
   ]
  },
  {
   "cell_type": "code",
   "execution_count": 3,
   "id": "9c055e6a",
   "metadata": {},
   "outputs": [],
   "source": [
    "def ensemble_prediction(algo_predictions: list, true_labels: np.array, is_print: bool = False):\n",
    "    print(f'Running ensemble of {len(algo_predictions)}..')\n",
    "    ensemble = np.array(algo_predictions).T\n",
    "    final_preds = np.zeros_like(true_labels)\n",
    "    \n",
    "    for idx, pred in enumerate(ensemble):\n",
    "        if np.count_nonzero(pred == 1) > np.count_nonzero(pred == 2):\n",
    "            final_preds[idx] = 1\n",
    "        elif np.count_nonzero(pred == 2) > np.count_nonzero(pred == 1):\n",
    "            final_preds[idx] = 2\n",
    "        else:\n",
    "            final_preds[idx] = np.random.choice([1, 2])\n",
    "            if is_print:\n",
    "                print(f'Found a tie : Selected choice : {int(final_preds[idx])} as target class')\n",
    "    return np.round(accuracy_score(final_preds, true_labels) * 100, 4)"
   ]
  },
  {
   "cell_type": "code",
   "execution_count": 4,
   "id": "baf0430d",
   "metadata": {},
   "outputs": [
    {
     "name": "stdout",
     "output_type": "stream",
     "text": [
      "Running ensemble of 3..\n",
      "Accuracy of ensemble predictions using Random Forest, KNN and SVM = 94.4444%\n"
     ]
    }
   ],
   "source": [
    "ensemble_3 = [raf_predict, knn_predict, svm_predict]\n",
    "print(f'Accuracy of ensemble predictions using Random Forest, KNN and SVM = {ensemble_prediction(ensemble_3, Y_test)}%')"
   ]
  },
  {
   "cell_type": "code",
   "execution_count": 5,
   "id": "b0143288",
   "metadata": {},
   "outputs": [
    {
     "name": "stdout",
     "output_type": "stream",
     "text": [
      "Running ensemble of 4..\n",
      "Found a tie : Selected choice : 2 as target class\n",
      "Accuracy of ensemble predictions using Random Forest, KNN, perceptron and SVM = 92.5926%\n"
     ]
    }
   ],
   "source": [
    "ensemble_4 = [raf_predict, knn_predict, svm_predict, perceptron_predict]\n",
    "print(f'Accuracy of ensemble predictions using Random Forest, KNN, perceptron and SVM = {ensemble_prediction(ensemble_4, Y_test, True)}%')"
   ]
  },
  {
   "cell_type": "code",
   "execution_count": 6,
   "id": "b5040759",
   "metadata": {},
   "outputs": [
    {
     "name": "stdout",
     "output_type": "stream",
     "text": [
      "Running ensemble of 5..\n",
      "Accuracy of ensemble predictions using Random Forest, KNN, Logistic, Perceptron and SVM = 92.5926%\n"
     ]
    }
   ],
   "source": [
    "ensemble_5 = [raf_predict, knn_predict, svm_predict, perceptron_predict, logistic_predict]\n",
    "print(f'Accuracy of ensemble predictions using Random Forest, KNN, Logistic, Perceptron and SVM = {ensemble_prediction(ensemble_5, Y_test)}%')"
   ]
  }
 ],
 "metadata": {
  "kernelspec": {
   "display_name": "Python 3 (ipykernel)",
   "language": "python",
   "name": "python3"
  },
  "language_info": {
   "codemirror_mode": {
    "name": "ipython",
    "version": 3
   },
   "file_extension": ".py",
   "mimetype": "text/x-python",
   "name": "python",
   "nbconvert_exporter": "python",
   "pygments_lexer": "ipython3",
   "version": "3.9.13"
  }
 },
 "nbformat": 4,
 "nbformat_minor": 5
}
