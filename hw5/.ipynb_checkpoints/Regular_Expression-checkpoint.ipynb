{
 "cells": [
  {
   "cell_type": "code",
   "execution_count": 10,
   "id": "5be7ee00",
   "metadata": {},
   "outputs": [],
   "source": [
    "import re\n",
    "str = '### Subject: scuba diving at… From: steve.millman@asu.edu Body: Underwater, where it is at'"
   ]
  },
  {
   "cell_type": "code",
   "execution_count": 11,
   "id": "0ccb4e81",
   "metadata": {},
   "outputs": [
    {
     "name": "stdout",
     "output_type": "stream",
     "text": [
      ": scuba diving at… From: steve.millman@asu.edu Body:\n"
     ]
    }
   ],
   "source": [
    "match = re.search(r':.*:',str)\n",
    "if match:\n",
    " print(match.group())\n",
    "else:\n",
    " print('did not find')"
   ]
  },
  {
   "cell_type": "code",
   "execution_count": 12,
   "id": "a539b82c",
   "metadata": {},
   "outputs": [
    {
     "name": "stdout",
     "output_type": "stream",
     "text": [
      "steve.millman@asu.edu\n"
     ]
    }
   ],
   "source": [
    "match = re.search(r'st\\S*',str)\n",
    "if match:\n",
    " print(match.group())\n",
    "else:\n",
    " print('did not find')"
   ]
  },
  {
   "cell_type": "code",
   "execution_count": 13,
   "id": "5a6ea217",
   "metadata": {},
   "outputs": [
    {
     "name": "stdout",
     "output_type": "stream",
     "text": [
      ": scuba diving at… From:\n"
     ]
    }
   ],
   "source": [
    "match = re.search(r':.*?:',str)\n",
    "if match:\n",
    "    print(match.group())\n",
    "else:\n",
    "    print('did not find')"
   ]
  },
  {
   "cell_type": "code",
   "execution_count": 14,
   "id": "1c457926",
   "metadata": {},
   "outputs": [
    {
     "name": "stdout",
     "output_type": "stream",
     "text": [
      " scuba diving at\n"
     ]
    }
   ],
   "source": [
    "match = re.search(r'[\\w ]*at',str)\n",
    "if match:\n",
    "    print(match.group())\n",
    "else:\n",
    "    print('did not find')"
   ]
  },
  {
   "cell_type": "code",
   "execution_count": 21,
   "id": "6f59cb2f",
   "metadata": {},
   "outputs": [
    {
     "name": "stdout",
     "output_type": "stream",
     "text": [
      "<stdio.h> #include <bits/stdc++.h> int main() { int val = '<dfgt>\n"
     ]
    }
   ],
   "source": [
    "str = \"#include <stdio.h> #include <bits/stdc++.h> int main() { int val = '<dfgt>'}\"\n",
    "match = re.search('<.*>', str)\n",
    "if match:\n",
    "    print(match.group())\n",
    "else:\n",
    "    print('did not find')"
   ]
  },
  {
   "cell_type": "code",
   "execution_count": 20,
   "id": "0c1293c8",
   "metadata": {},
   "outputs": [
    {
     "name": "stdout",
     "output_type": "stream",
     "text": [
      "<stdio.h>\n"
     ]
    }
   ],
   "source": [
    "str = \"#include <stdio.h> #include <bits/stdc++.h> int main() { int val = '<dfgt>'}\"\n",
    "match = re.search('<.*?>', str)\n",
    "if match:\n",
    "    print(match.group())\n",
    "else:\n",
    "    print('did not find')"
   ]
  },
  {
   "cell_type": "code",
   "execution_count": 25,
   "id": "832cb7df",
   "metadata": {},
   "outputs": [
    {
     "name": "stdout",
     "output_type": "stream",
     "text": [
      "2357\n"
     ]
    }
   ],
   "source": [
    "str = \"MOD2357X\"\n",
    "match = re.search(r'MOD([0-9]+)X', str)\n",
    "if match:\n",
    "    print(match.group(1))\n",
    "else:\n",
    "    print('did not find')"
   ]
  }
 ],
 "metadata": {
  "kernelspec": {
   "display_name": "Python 3 (ipykernel)",
   "language": "python",
   "name": "python3"
  },
  "language_info": {
   "codemirror_mode": {
    "name": "ipython",
    "version": 3
   },
   "file_extension": ".py",
   "mimetype": "text/x-python",
   "name": "python",
   "nbconvert_exporter": "python",
   "pygments_lexer": "ipython3",
   "version": "3.9.13"
  }
 },
 "nbformat": 4,
 "nbformat_minor": 5
}
