{
 "cells": [
  {
   "cell_type": "code",
   "execution_count": 1,
   "id": "78699a45",
   "metadata": {},
   "outputs": [],
   "source": [
    "import re\n",
    "str = '### Subject: scuba diving at… From: steve.millman@asu.edu Body: Underwater, where it is at'"
   ]
  },
  {
   "cell_type": "code",
   "execution_count": 2,
   "id": "0ccb4e81",
   "metadata": {},
   "outputs": [
    {
     "name": "stdout",
     "output_type": "stream",
     "text": [
      ": scuba diving at… From: steve.millman@asu.edu Body:\n"
     ]
    }
   ],
   "source": [
    "match = re.search(r':.*:',str)\n",
    "if match:\n",
    " print(match.group())\n",
    "else:\n",
    " print('did not find')"
   ]
  },
  {
   "cell_type": "code",
   "execution_count": 3,
   "id": "a539b82c",
   "metadata": {},
   "outputs": [
    {
     "name": "stdout",
     "output_type": "stream",
     "text": [
      "steve.millman@asu.edu\n"
     ]
    }
   ],
   "source": [
    "match = re.search(r'st\\S*',str)\n",
    "if match:\n",
    " print(match.group())\n",
    "else:\n",
    " print('did not find')"
   ]
  },
  {
   "cell_type": "code",
   "execution_count": 4,
   "id": "5a6ea217",
   "metadata": {},
   "outputs": [
    {
     "name": "stdout",
     "output_type": "stream",
     "text": [
      ": scuba diving at… From:\n"
     ]
    }
   ],
   "source": [
    "match = re.search(r':.*?:',str)\n",
    "if match:\n",
    "    print(match.group())\n",
    "else:\n",
    "    print('did not find')"
   ]
  },
  {
   "cell_type": "code",
   "execution_count": 5,
   "id": "fc86e089",
   "metadata": {},
   "outputs": [
    {
     "name": "stdout",
     "output_type": "stream",
     "text": [
      " where it is at\n"
     ]
    }
   ],
   "source": [
    "match = re.search(r'[\\w ]*at$',str)\n",
    "if match:\n",
    "    print(match.group())\n",
    "else:\n",
    "    print('did not find')"
   ]
  },
  {
   "cell_type": "code",
   "execution_count": 6,
   "id": "3c2cc2b3",
   "metadata": {},
   "outputs": [
    {
     "name": "stdout",
     "output_type": "stream",
     "text": [
      "<stdio.h> #include <bits/stdc++.h> int main() { int val = '<dfgt>\n"
     ]
    }
   ],
   "source": [
    "str = \"#include <stdio.h> #include <bits/stdc++.h> int main() { int val = '<dfgt>'}\"\n",
    "match = re.search('<.*>', str)\n",
    "if match:\n",
    "    print(match.group())\n",
    "else:\n",
    "    print('did not find')"
   ]
  },
  {
   "cell_type": "code",
   "execution_count": 7,
   "id": "ffa715fa",
   "metadata": {},
   "outputs": [
    {
     "name": "stdout",
     "output_type": "stream",
     "text": [
      "<stdio.h>\n"
     ]
    }
   ],
   "source": [
    "str = \"#include <stdio.h> #include <bits/stdc++.h> int main() { int val = '<dfgt>'}\"\n",
    "match = re.search('<.*?>', str)\n",
    "if match:\n",
    "    print(match.group())\n",
    "else:\n",
    "    print('did not find')"
   ]
  },
  {
   "cell_type": "code",
   "execution_count": null,
   "id": "61e95fc4",
   "metadata": {},
   "outputs": [],
   "source": [
    "str = \"MOD2357X\"\n",
    "\n",
    "# match = re.search(r'MOD([0-9]+)X', str)\n",
    "match = re.search(r'(?<=MOD)\\d+(?=X)', str)\n",
    "if match:\n",
    "    print(match.group())\n",
    "else:\n",
    "    print('did not find')"
   ]
  }
 ],
 "metadata": {
  "kernelspec": {
   "display_name": "Python 3 (ipykernel)",
   "language": "python",
   "name": "python3"
  },
  "language_info": {
   "codemirror_mode": {
    "name": "ipython",
    "version": 3
   },
   "file_extension": ".py",
   "mimetype": "text/x-python",
   "name": "python",
   "nbconvert_exporter": "python",
   "pygments_lexer": "ipython3",
   "version": "3.9.13"
  }
 },
 "nbformat": 4,
 "nbformat_minor": 5
}
