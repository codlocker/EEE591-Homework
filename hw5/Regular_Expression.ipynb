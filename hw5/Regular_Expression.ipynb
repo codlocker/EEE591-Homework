{
 "cells": [
  {
   "cell_type": "code",
   "execution_count": null,
   "id": "78699a45",
   "metadata": {},
   "outputs": [],
   "source": [
    "import re\n",
    "str = '### Subject: scuba diving at… From: steve.millman@asu.edu Body: Underwater, where it is at'"
   ]
  },
  {
   "cell_type": "code",
   "execution_count": null,
   "id": "0ccb4e81",
   "metadata": {},
   "outputs": [],
   "source": [
    "match = re.search(r':.*:',str)\n",
    "if match:\n",
    " print(match.group())\n",
    "else:\n",
    " print('did not find')"
   ]
  },
  {
   "cell_type": "code",
   "execution_count": null,
   "id": "a539b82c",
   "metadata": {},
   "outputs": [],
   "source": [
    "match = re.search(r'st\\S*',str)\n",
    "if match:\n",
    " print(match.group())\n",
    "else:\n",
    " print('did not find')"
   ]
  },
  {
   "cell_type": "code",
   "execution_count": null,
   "id": "5a6ea217",
   "metadata": {},
   "outputs": [],
   "source": [
    "match = re.search(r':.*?:',str)\n",
    "if match:\n",
    "    print(match.group())\n",
    "else:\n",
    "    print('did not find')"
   ]
  },
  {
   "cell_type": "code",
   "execution_count": null,
   "id": "fc86e089",
   "metadata": {},
   "outputs": [],
   "source": [
    "match = re.search(r'[\\w ]*at$',str)\n",
    "if match:\n",
    "    print(match.group())\n",
    "else:\n",
    "    print('did not find')"
   ]
  },
  {
   "cell_type": "code",
   "execution_count": null,
   "id": "3c2cc2b3",
   "metadata": {},
   "outputs": [],
   "source": [
    "str = \"#include <stdio.h> #include <bits/stdc++.h> int main() { int val = '<dfgt>'}\"\n",
    "match = re.search('<.*>', str)\n",
    "if match:\n",
    "    print(match.group())\n",
    "else:\n",
    "    print('did not find')"
   ]
  },
  {
   "cell_type": "code",
   "execution_count": null,
   "id": "ffa715fa",
   "metadata": {},
   "outputs": [],
   "source": [
    "str = \"#include <stdio.h> #include <bits/stdc++.h> int main() { int val = '<dfgt>'}\"\n",
    "match = re.search('<.*?>', str)\n",
    "if match:\n",
    "    print(match.group())\n",
    "else:\n",
    "    print('did not find')"
   ]
  },
  {
   "cell_type": "code",
   "execution_count": null,
   "id": "61e95fc4",
   "metadata": {},
   "outputs": [],
   "source": [
    "str = \"MOD2357X\"\n",
    "\n",
    "# match = re.search(r'MOD([0-9]+)X', str)\n",
    "match = re.search(r'(?<=MOD)\\d+(?=X)', str)\n",
    "if match:\n",
    "    print(match.group())\n",
    "else:\n",
    "    print('did not find')"
   ]
  }
 ],
 "metadata": {
  "kernelspec": {
   "display_name": "Python 3 (ipykernel)",
   "language": "python",
   "name": "python3"
  },
  "language_info": {
   "codemirror_mode": {
    "name": "ipython",
    "version": 3
   },
   "file_extension": ".py",
   "mimetype": "text/x-python",
   "name": "python",
   "nbconvert_exporter": "python",
   "pygments_lexer": "ipython3",
   "version": "3.9.13"
  }
 },
 "nbformat": 4,
 "nbformat_minor": 5
}
