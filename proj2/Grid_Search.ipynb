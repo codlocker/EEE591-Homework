{
 "cells": [
  {
   "cell_type": "code",
   "execution_count": 8,
   "id": "46bf7510",
   "metadata": {},
   "outputs": [],
   "source": [
    "import numpy as np\n",
    "import pandas as pd\n",
    "from sklearn.model_selection import GridSearchCV\n",
    "from sklearn.neural_network import MLPClassifier\n",
    "from sklearn.decomposition import PCA\n",
    "from sklearn.model_selection import train_test_split\n",
    "import warnings\n",
    "warnings.filterwarnings('ignore')"
   ]
  },
  {
   "cell_type": "code",
   "execution_count": 9,
   "id": "419c92ec",
   "metadata": {},
   "outputs": [
    {
     "data": {
      "text/plain": [
       "Int64Index([ 0,  1,  2,  3,  4,  5,  6,  7,  8,  9, 10, 11, 12, 13, 14, 15, 16,\n",
       "            17, 18, 19, 20, 21, 22, 23, 24, 25, 26, 27, 28, 29, 30, 31, 32, 33,\n",
       "            34, 35, 36, 37, 38, 39, 40, 41, 42, 43, 44, 45, 46, 47, 48, 49, 50,\n",
       "            51, 52, 53, 54, 55, 56, 57, 58, 59, 60, 61],\n",
       "           dtype='int64')"
      ]
     },
     "execution_count": 9,
     "metadata": {},
     "output_type": "execute_result"
    }
   ],
   "source": [
    "data = pd.read_csv('./sonar_all_data_2.csv', header=None)\n",
    "data.columns"
   ]
  },
  {
   "cell_type": "code",
   "execution_count": 10,
   "id": "2d0f6d5d",
   "metadata": {},
   "outputs": [],
   "source": [
    "X = data.drop(columns=[60, 61], axis=1)\n",
    "y = data[61]"
   ]
  },
  {
   "cell_type": "code",
   "execution_count": 11,
   "id": "b52dc7b8",
   "metadata": {},
   "outputs": [],
   "source": [
    "# Split the training and the testing data\n",
    "X_train, X_test, y_train, y_test = train_test_split(X, y, random_state=42, test_size=0.30)"
   ]
  },
  {
   "cell_type": "code",
   "execution_count": 12,
   "id": "aef87485",
   "metadata": {},
   "outputs": [
    {
     "name": "stdout",
     "output_type": "stream",
     "text": [
      "{'hidden_layer_sizes': [(10, 10, 10), (100,), (500,)], 'alpha': array([1.0e-05, 1.9e-05, 2.8e-05, 3.7e-05, 4.6e-05, 5.5e-05, 6.4e-05,\n",
      "       7.3e-05, 8.2e-05, 9.1e-05])}\n"
     ]
    }
   ],
   "source": [
    "hidden_layer_sizes_opt = [(10, 10, 10, ), (100, ), (500, )]\n",
    "start_val = 1e-5\n",
    "end_val = 1e-4\n",
    "num_val = 10\n",
    "\n",
    "alpha=np.arange(start_val, end_val, (end_val - start_val) / num_val)\n",
    "\n",
    "param_grid = dict(hidden_layer_sizes=hidden_layer_sizes_opt,\n",
    "                  alpha=alpha,\n",
    "                  )\n",
    "\n",
    "model = MLPClassifier(activation='logistic', solver='adam', tol=0.0001, random_state=1, max_iter=2000 )\n",
    "\n",
    "grid = GridSearchCV(model, param_grid, cv=10, scoring='accuracy', n_jobs=-1, verbose=True)\n",
    "\n",
    "print(param_grid)"
   ]
  },
  {
   "cell_type": "code",
   "execution_count": 13,
   "id": "a293cd21",
   "metadata": {},
   "outputs": [
    {
     "name": "stdout",
     "output_type": "stream",
     "text": [
      "\n",
      "\n",
      "Iteration: 1\n",
      "Fitting 10 folds for each of 30 candidates, totalling 300 fits\n",
      "0.5514285714285715\n",
      "{'alpha': 1e-05, 'hidden_layer_sizes': (500,)}\n",
      "MLPClassifier(activation='logistic', alpha=1e-05, hidden_layer_sizes=(500,),\n",
      "              max_iter=2000, random_state=1)\n",
      "\n",
      "\n",
      "Iteration: 4\n",
      "Fitting 10 folds for each of 30 candidates, totalling 300 fits\n",
      "0.6547619047619048\n",
      "{'alpha': 1e-05, 'hidden_layer_sizes': (100,)}\n",
      "MLPClassifier(activation='logistic', alpha=1e-05, max_iter=2000, random_state=1)\n",
      "\n",
      "\n",
      "Iteration: 7\n",
      "Fitting 10 folds for each of 30 candidates, totalling 300 fits\n",
      "0.7642857142857142\n",
      "{'alpha': 1e-05, 'hidden_layer_sizes': (100,)}\n",
      "MLPClassifier(activation='logistic', alpha=1e-05, max_iter=2000, random_state=1)\n",
      "\n",
      "\n",
      "Iteration: 10\n",
      "Fitting 10 folds for each of 30 candidates, totalling 300 fits\n",
      "0.7985714285714286\n",
      "{'alpha': 1e-05, 'hidden_layer_sizes': (100,)}\n",
      "MLPClassifier(activation='logistic', alpha=1e-05, max_iter=2000, random_state=1)\n",
      "\n",
      "\n",
      "Iteration: 13\n",
      "Fitting 10 folds for each of 30 candidates, totalling 300 fits\n",
      "0.8338095238095239\n",
      "{'alpha': 1e-05, 'hidden_layer_sizes': (100,)}\n",
      "MLPClassifier(activation='logistic', alpha=1e-05, max_iter=2000, random_state=1)\n",
      "\n",
      "\n",
      "Iteration: 16\n",
      "Fitting 10 folds for each of 30 candidates, totalling 300 fits\n",
      "0.8204761904761904\n",
      "{'alpha': 1e-05, 'hidden_layer_sizes': (100,)}\n",
      "MLPClassifier(activation='logistic', alpha=1e-05, max_iter=2000, random_state=1)\n",
      "\n",
      "\n",
      "Iteration: 19\n",
      "Fitting 10 folds for each of 30 candidates, totalling 300 fits\n",
      "0.8204761904761904\n",
      "{'alpha': 1e-05, 'hidden_layer_sizes': (100,)}\n",
      "MLPClassifier(activation='logistic', alpha=1e-05, max_iter=2000, random_state=1)\n",
      "\n",
      "\n",
      "Iteration: 22\n",
      "Fitting 10 folds for each of 30 candidates, totalling 300 fits\n",
      "0.8276190476190475\n",
      "{'alpha': 1e-05, 'hidden_layer_sizes': (100,)}\n",
      "MLPClassifier(activation='logistic', alpha=1e-05, max_iter=2000, random_state=1)\n",
      "\n",
      "\n",
      "Iteration: 25\n",
      "Fitting 10 folds for each of 30 candidates, totalling 300 fits\n",
      "0.8276190476190475\n",
      "{'alpha': 1.9e-05, 'hidden_layer_sizes': (100,)}\n",
      "MLPClassifier(activation='logistic', alpha=1.9e-05, max_iter=2000,\n",
      "              random_state=1)\n",
      "\n",
      "\n",
      "Iteration: 28\n",
      "Fitting 10 folds for each of 30 candidates, totalling 300 fits\n",
      "0.8276190476190477\n",
      "{'alpha': 1e-05, 'hidden_layer_sizes': (100,)}\n",
      "MLPClassifier(activation='logistic', alpha=1e-05, max_iter=2000, random_state=1)\n",
      "\n",
      "\n",
      "Iteration: 31\n",
      "Fitting 10 folds for each of 30 candidates, totalling 300 fits\n",
      "0.8147619047619047\n",
      "{'alpha': 1e-05, 'hidden_layer_sizes': (100,)}\n",
      "MLPClassifier(activation='logistic', alpha=1e-05, max_iter=2000, random_state=1)\n",
      "\n",
      "\n",
      "Iteration: 34\n",
      "Fitting 10 folds for each of 30 candidates, totalling 300 fits\n",
      "0.7723809523809523\n",
      "{'alpha': 1e-05, 'hidden_layer_sizes': (500,)}\n",
      "MLPClassifier(activation='logistic', alpha=1e-05, hidden_layer_sizes=(500,),\n",
      "              max_iter=2000, random_state=1)\n",
      "\n",
      "\n",
      "Iteration: 37\n",
      "Fitting 10 folds for each of 30 candidates, totalling 300 fits\n",
      "0.7519047619047619\n",
      "{'alpha': 1e-05, 'hidden_layer_sizes': (100,)}\n",
      "MLPClassifier(activation='logistic', alpha=1e-05, max_iter=2000, random_state=1)\n",
      "\n",
      "\n",
      "Iteration: 40\n",
      "Fitting 10 folds for each of 30 candidates, totalling 300 fits\n",
      "0.7523809523809524\n",
      "{'alpha': 5.5e-05, 'hidden_layer_sizes': (100,)}\n",
      "MLPClassifier(activation='logistic', alpha=5.5e-05, max_iter=2000,\n",
      "              random_state=1)\n",
      "\n",
      "\n",
      "Iteration: 43\n",
      "Fitting 10 folds for each of 30 candidates, totalling 300 fits\n",
      "0.7661904761904761\n",
      "{'alpha': 1e-05, 'hidden_layer_sizes': (500,)}\n",
      "MLPClassifier(activation='logistic', alpha=1e-05, hidden_layer_sizes=(500,),\n",
      "              max_iter=2000, random_state=1)\n",
      "\n",
      "\n",
      "Iteration: 46\n",
      "Fitting 10 folds for each of 30 candidates, totalling 300 fits\n",
      "0.7457142857142857\n",
      "{'alpha': 1e-05, 'hidden_layer_sizes': (500,)}\n",
      "MLPClassifier(activation='logistic', alpha=1e-05, hidden_layer_sizes=(500,),\n",
      "              max_iter=2000, random_state=1)\n",
      "\n",
      "\n",
      "Iteration: 49\n",
      "Fitting 10 folds for each of 30 candidates, totalling 300 fits\n",
      "0.7523809523809524\n",
      "{'alpha': 1e-05, 'hidden_layer_sizes': (100,)}\n",
      "MLPClassifier(activation='logistic', alpha=1e-05, max_iter=2000, random_state=1)\n",
      "\n",
      "\n",
      "Iteration: 52\n",
      "Fitting 10 folds for each of 30 candidates, totalling 300 fits\n",
      "0.739047619047619\n",
      "{'alpha': 1e-05, 'hidden_layer_sizes': (100,)}\n",
      "MLPClassifier(activation='logistic', alpha=1e-05, max_iter=2000, random_state=1)\n",
      "\n",
      "\n",
      "Iteration: 55\n",
      "Fitting 10 folds for each of 30 candidates, totalling 300 fits\n",
      "0.767142857142857\n",
      "{'alpha': 1e-05, 'hidden_layer_sizes': (500,)}\n",
      "MLPClassifier(activation='logistic', alpha=1e-05, hidden_layer_sizes=(500,),\n",
      "              max_iter=2000, random_state=1)\n",
      "\n",
      "\n",
      "Iteration: 58\n",
      "Fitting 10 folds for each of 30 candidates, totalling 300 fits\n",
      "0.7604761904761903\n",
      "{'alpha': 1e-05, 'hidden_layer_sizes': (500,)}\n",
      "MLPClassifier(activation='logistic', alpha=1e-05, hidden_layer_sizes=(500,),\n",
      "              max_iter=2000, random_state=1)\n"
     ]
    }
   ],
   "source": [
    "best_scores = []\n",
    "model_params = []\n",
    "\n",
    "for i in np.arange(1, 61, 3):\n",
    "\n",
    "    # Print the iteration number\n",
    "    print(\"\\n\\nIteration: \" + str(i))\n",
    "\n",
    "    # Set the PCA transform parameters\n",
    "    pca = PCA(n_components=i, random_state=1)\n",
    "    X_pca = pca.fit_transform(X_train)\n",
    "\n",
    "    # Perform a fit on the gridSearchCV model\n",
    "    grid.fit(X_pca, y_train)\n",
    "\n",
    "    # Display the various grid parameters\n",
    "    temp = grid.best_score_\n",
    "    best_scores.append(temp)\n",
    "    model_params.append(grid.best_params_)\n",
    "    print(temp)\n",
    "    # print(grid.cv_results_)\n",
    "    print(grid.best_params_)\n",
    "    print(grid.best_estimator_)"
   ]
  },
  {
   "cell_type": "code",
   "execution_count": 14,
   "id": "a6564027",
   "metadata": {},
   "outputs": [
    {
     "name": "stdout",
     "output_type": "stream",
     "text": [
      "Max accuracy occured at the PCA component: 0.8338095238095239\n",
      "Parameters corresponding to the max accuracy for cross validation:  {'alpha': 1e-05, 'hidden_layer_sizes': (100,)}\n"
     ]
    }
   ],
   "source": [
    "# Get the max of the best scores and print that estimator parameters\n",
    "print(\"Max accuracy occured at the PCA component: \" + str(max(best_scores)))\n",
    "print(\n",
    "    \"Parameters corresponding to the max accuracy for cross validation: \",\n",
    "    model_params[best_scores.index(max(best_scores))])"
   ]
  }
 ],
 "metadata": {
  "kernelspec": {
   "display_name": "Python 3 (ipykernel)",
   "language": "python",
   "name": "python3"
  },
  "language_info": {
   "codemirror_mode": {
    "name": "ipython",
    "version": 3
   },
   "file_extension": ".py",
   "mimetype": "text/x-python",
   "name": "python",
   "nbconvert_exporter": "python",
   "pygments_lexer": "ipython3",
   "version": "3.9.13"
  }
 },
 "nbformat": 4,
 "nbformat_minor": 5
}
